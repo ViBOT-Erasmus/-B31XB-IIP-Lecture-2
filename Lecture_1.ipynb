{
 "cells": [
  {
   "cell_type": "markdown",
   "metadata": {},
   "source": [
    "# Introduction to Image Processing\n",
    "\n",
    "Guillaume Lemaitre - Fabrice Meriaudeau\n",
    "\n",
    "## Lecture 1 - Digital Image Processing Fundamentals"
   ]
  },
  {
   "cell_type": "markdown",
   "metadata": {},
   "source": [
    "The needed libraries are imported in the cell below"
   ]
  },
  {
   "cell_type": "code",
   "execution_count": null,
   "metadata": {
    "collapsed": false
   },
   "outputs": [],
   "source": [
    "%matplotlib inline\n",
    "%pprint off\n",
    "\n",
    "# Import the library to show images, plot, etc.\n",
    "import matplotlib.pyplot as plt\n",
    "# Import functionality for the color map\n",
    "import matplotlib.cm as cm\n",
    "\n",
    "# Other plotting library\n",
    "import seaborn as sns\n",
    "sns.set()\n",
    "\n",
    "# Import the library to manage matrix and array\n",
    "import numpy as np\n",
    "\n",
    "# Import the library of linear algebra\n",
    "import scipy as sp\n",
    "\n",
    "# Import the image processing toolbox\n",
    "### Module to read, write, etc.\n",
    "from skimage import io\n",
    "### Module for color conversion\n",
    "from skimage import color\n",
    "### Function to convert the image on 8 bits\n",
    "from skimage import img_as_ubyte"
   ]
  },
  {
   "cell_type": "markdown",
   "metadata": {},
   "source": [
    "### Welcome to the digital world"
   ]
  },
  {
   "cell_type": "code",
   "execution_count": null,
   "metadata": {
    "collapsed": false
   },
   "outputs": [],
   "source": [
    "# Define the image to read\n",
    "filename = 'images/vibot.png'\n",
    "\n",
    "# Open an image\n",
    "img = io.imread(filename)\n",
    "# Convert the image into grayscale\n",
    "img = color.rgb2gray(img)\n",
    "# Convert the image into 8 bits\n",
    "img = img_as_ubyte(img)\n",
    "\n",
    "# Show the image with grey colormap\n",
    "plt.imshow(img, cmap = cm.Greys_r)\n",
    "\n",
    "# Show the dimension of the image\n",
    "print 'The size of the image is - height: {} px and width: {} px'.format(img.shape[0], img.shape[1])"
   ]
  },
  {
   "cell_type": "code",
   "execution_count": null,
   "metadata": {
    "collapsed": false
   },
   "outputs": [],
   "source": [
    "# Show a zooming of the image\n",
    "plt.figure(figsize=(30, 30))\n",
    "sns.heatmap(img[20:40, 20:40], annot=True, fmt='d', linewidths=.5)\n",
    "plt.show()"
   ]
  },
  {
   "cell_type": "markdown",
   "metadata": {},
   "source": [
    "### Resizing"
   ]
  },
  {
   "cell_type": "code",
   "execution_count": null,
   "metadata": {
    "collapsed": false
   },
   "outputs": [],
   "source": [
    "# Import the function to make zooming on the image\n",
    "from scipy.ndimage.interpolation import zoom\n",
    "\n",
    "# Let's resize a couple of times the image by down-sampling\n",
    "for i in np.arange(1., 5.):\n",
    "    factor_ds = .5 / i\n",
    "    plt.figure()\n",
    "    down_img = zoom(img, factor_ds, order=0)\n",
    "    plt.imshow(down_img, cmap = cm.Greys_r)\n",
    "    plt.show()\n",
    "    print 'The size of the image is - height: {} px and width: {} px'.format(down_img.shape[0], down_img.shape[1])"
   ]
  },
  {
   "cell_type": "markdown",
   "metadata": {},
   "source": [
    "### Quantisation"
   ]
  },
  {
   "cell_type": "code",
   "execution_count": null,
   "metadata": {
    "collapsed": false
   },
   "outputs": [],
   "source": [
    "# Change the dynamic range by reducing the number of gray level\n",
    "for i in np.arange(1., 9.):\n",
    "    # Compute the maximum number of gray level\n",
    "    Lmax = 2.**i - 1.\n",
    "    # Rescale the image\n",
    "    resc_fac = Lmax / float(np.max(img))\n",
    "    down_image = np.round(img * resc_fac).astype(int)\n",
    "\n",
    "    plt.figure()\n",
    "    plt.imshow(down_image, cmap=cm.jet)\n",
    "    plt.show()\n",
    "    \n",
    "    print 'The different intensities are: {}'.format(np.unique(down_image))"
   ]
  }
 ],
 "metadata": {
  "kernelspec": {
   "display_name": "Python 2",
   "language": "python",
   "name": "python2"
  },
  "language_info": {
   "codemirror_mode": {
    "name": "ipython",
    "version": 2
   },
   "file_extension": ".py",
   "mimetype": "text/x-python",
   "name": "python",
   "nbconvert_exporter": "python",
   "pygments_lexer": "ipython2",
   "version": "2.7.10"
  }
 },
 "nbformat": 4,
 "nbformat_minor": 0
}
